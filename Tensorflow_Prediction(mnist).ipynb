{
  "nbformat": 4,
  "nbformat_minor": 0,
  "metadata": {
    "colab": {
      "name": "Tensorflow_Prediction (mnist).ipynb",
      "provenance": [],
      "collapsed_sections": [],
      "mount_file_id": "1RT34ANQtfZh5xamtsMcrWLLcyQU11qrn",
      "authorship_tag": "ABX9TyOnkrTNRpsOyRUSvomeNA2N"
    },
    "kernelspec": {
      "name": "python3",
      "display_name": "Python 3"
    },
    "language_info": {
      "name": "python"
    }
  },
  "cells": [
    {
      "cell_type": "code",
      "metadata": {
        "colab": {
          "base_uri": "https://localhost:8080/"
        },
        "id": "X9Y5anRAg1vW",
        "outputId": "4a0492c7-7027-4887-e98e-a3b3506fcbe7"
      },
      "source": [
        "import tensorflow as tf\n",
        "\n",
        "mnist = tf.keras.datasets.mnist\n",
        "(X_train,y_train),(X_test,y_test) = mnist.load_data()\n",
        "\n",
        "X_train = tf.keras.utils.normalize(X_train,axis=1)\n",
        "X_test = tf.keras.utils.normalize(X_test,axis=1)\n",
        "\n",
        "model = tf.keras.models.Sequential()\n",
        "# input layer\n",
        "model.add(tf.keras.layers.Flatten())\n",
        "# hidden layer\n",
        "model.add(tf.keras.layers.Dense(128, activation=tf.nn.relu))\n",
        "model.add(tf.keras.layers.Dense(128, activation=tf.nn.relu))\n",
        "# output layer\n",
        "model.add(tf.keras.layers.Dense(10, activation=tf.nn.softmax))\n",
        "\n",
        "\n",
        "model.compile(optimizer='adam',\n",
        "              loss='sparse_categorical_crossentropy',\n",
        "              metrics=['accuracy'])\n",
        "\n",
        "model.fit(X_train,y_train,epochs=3)"
      ],
      "execution_count": 29,
      "outputs": [
        {
          "output_type": "stream",
          "name": "stdout",
          "text": [
            "Epoch 1/3\n",
            "1875/1875 [==============================] - 5s 2ms/step - loss: 0.2645 - accuracy: 0.9219\n",
            "Epoch 2/3\n",
            "1875/1875 [==============================] - 4s 2ms/step - loss: 0.1069 - accuracy: 0.9673\n",
            "Epoch 3/3\n",
            "1875/1875 [==============================] - 4s 2ms/step - loss: 0.0720 - accuracy: 0.9777\n"
          ]
        },
        {
          "output_type": "execute_result",
          "data": {
            "text/plain": [
              "<keras.callbacks.History at 0x7fbc9f9d97d0>"
            ]
          },
          "metadata": {},
          "execution_count": 29
        }
      ]
    },
    {
      "cell_type": "code",
      "metadata": {
        "colab": {
          "base_uri": "https://localhost:8080/"
        },
        "id": "rtOB3GZlkVPX",
        "outputId": "7db9a132-8907-4823-f32d-19fcb2a4159e"
      },
      "source": [
        "val_loss,val_acc = model.evaluate(X_test,y_test)\n",
        "val_loss,val_acc"
      ],
      "execution_count": 30,
      "outputs": [
        {
          "output_type": "stream",
          "name": "stdout",
          "text": [
            "313/313 [==============================] - 1s 1ms/step - loss: 0.0876 - accuracy: 0.9733\n"
          ]
        },
        {
          "output_type": "execute_result",
          "data": {
            "text/plain": [
              "(0.0876353308558464, 0.9732999801635742)"
            ]
          },
          "metadata": {},
          "execution_count": 30
        }
      ]
    },
    {
      "cell_type": "code",
      "metadata": {
        "colab": {
          "base_uri": "https://localhost:8080/"
        },
        "id": "kHVxyXZZlKt6",
        "outputId": "7af1a6c8-3610-41ab-ff91-99c6b6be517d"
      },
      "source": [
        "model.save('my_image_classifier_keras.model')"
      ],
      "execution_count": 15,
      "outputs": [
        {
          "output_type": "stream",
          "name": "stdout",
          "text": [
            "INFO:tensorflow:Assets written to: my_image_classifier_keras.model/assets\n"
          ]
        }
      ]
    },
    {
      "cell_type": "code",
      "metadata": {
        "colab": {
          "base_uri": "https://localhost:8080/"
        },
        "id": "23pVt74mlUdj",
        "outputId": "b0fdfa26-f80d-47d2-f5f7-532b774aecc6"
      },
      "source": [
        "preds = model.predict([X_test])\n",
        "preds"
      ],
      "execution_count": 34,
      "outputs": [
        {
          "output_type": "stream",
          "name": "stdout",
          "text": [
            "WARNING:tensorflow:Layers in a Sequential model should only have a single input tensor, but we receive a <class 'tuple'> input: (<tf.Tensor 'IteratorGetNext:0' shape=(None, 28, 28) dtype=float32>,)\n",
            "Consider rewriting this model with the Functional API.\n"
          ]
        },
        {
          "output_type": "execute_result",
          "data": {
            "text/plain": [
              "array([[6.3776978e-10, 9.0022610e-08, 4.1071744e-06, ..., 9.9998331e-01,\n",
              "        5.9730887e-08, 1.9859188e-07],\n",
              "       [6.6821890e-08, 3.1499011e-03, 9.9666518e-01, ..., 6.0104033e-09,\n",
              "        5.3474391e-06, 4.1128331e-10],\n",
              "       [1.0827424e-07, 9.9978119e-01, 1.4410109e-05, ..., 4.2470234e-05,\n",
              "        1.1537596e-04, 4.6251016e-06],\n",
              "       ...,\n",
              "       [9.7547904e-08, 4.0046334e-06, 4.9357521e-08, ..., 9.5777417e-05,\n",
              "        5.5733994e-06, 1.5644221e-04],\n",
              "       [2.0579417e-05, 5.0288959e-06, 1.6491865e-07, ..., 2.8219288e-06,\n",
              "        5.3397380e-03, 3.1256288e-06],\n",
              "       [1.0233730e-06, 9.4412620e-08, 2.0375144e-07, ..., 1.2258100e-10,\n",
              "        6.0059983e-07, 4.9837716e-08]], dtype=float32)"
            ]
          },
          "metadata": {},
          "execution_count": 34
        }
      ]
    },
    {
      "cell_type": "code",
      "metadata": {
        "colab": {
          "base_uri": "https://localhost:8080/"
        },
        "id": "8qgksVvqlg2f",
        "outputId": "892ccf6e-9db2-40a1-d5e9-8184cbf88cb1"
      },
      "source": [
        "import numpy as np\n",
        "\n",
        "np.argmax(preds[0])"
      ],
      "execution_count": 35,
      "outputs": [
        {
          "output_type": "execute_result",
          "data": {
            "text/plain": [
              "7"
            ]
          },
          "metadata": {},
          "execution_count": 35
        }
      ]
    },
    {
      "cell_type": "code",
      "metadata": {
        "colab": {
          "base_uri": "https://localhost:8080/",
          "height": 282
        },
        "id": "cjm3Mzhqhon1",
        "outputId": "73c9366d-70bb-40ca-9b91-48f5940c2bb7"
      },
      "source": [
        "import matplotlib.pyplot as plt\n",
        "\n",
        "plt.imshow(X_test[0],cmap=plt.cm.binary)"
      ],
      "execution_count": 33,
      "outputs": [
        {
          "output_type": "execute_result",
          "data": {
            "text/plain": [
              "<matplotlib.image.AxesImage at 0x7fbc9f83ba10>"
            ]
          },
          "metadata": {},
          "execution_count": 33
        },
        {
          "output_type": "display_data",
          "data": {
            "image/png": "[encoded data removed]",
            "text/plain": [
              "<Figure size 432x288 with 1 Axes>"
            ]
          },
          "metadata": {
            "needs_background": "light"
          }
        }
      ]
    }
  ]
}